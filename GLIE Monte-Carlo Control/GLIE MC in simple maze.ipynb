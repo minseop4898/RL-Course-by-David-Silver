{
 "cells": [
  {
   "cell_type": "code",
   "execution_count": 1,
   "metadata": {},
   "outputs": [],
   "source": [
    "import numpy as np\n",
    "import random"
   ]
  },
  {
   "attachments": {
    "image.png": {
     "image/png": "[encoded data removed]"
    }
   },
   "cell_type": "markdown",
   "metadata": {},
   "source": [
    "Simple maze environment\n",
    "![image.png](attachment:image.png)"
   ]
  },
  {
   "cell_type": "code",
   "execution_count": 2,
   "metadata": {},
   "outputs": [],
   "source": [
    "Q_table = np.zeros((6,9,4))\n",
    "N_table = np.zeros((6,9,4))"
   ]
  },
  {
   "cell_type": "code",
   "execution_count": 3,
   "metadata": {},
   "outputs": [],
   "source": [
    "def environment(S,A):\n",
    "    if S == (1,8) and A == 0:\n",
    "        return 1, (-1,-1)\n",
    "    \n",
    "    if A == 0:\n",
    "        if S[0]==0 or S==(4,2) or S==(5,5) or S==(3,7):\n",
    "            return 0, S\n",
    "        else:\n",
    "            return 0, (S[0]-1,S[1])\n",
    "    elif A == 1:\n",
    "        if S[1]==8 or S==(1,1) or S==(2,1) or S==(3,1) or S==(0,6) or S==(1,6) or S==(2,6) or S==(4,4):\n",
    "            return 0, S\n",
    "        else:\n",
    "            return 0, (S[0],S[1]+1)\n",
    "    elif A == 2:\n",
    "        if S[0]==5 or S==(0,2) or S==(3,5):\n",
    "            return 0, S\n",
    "        else:\n",
    "            return 0, (S[0]+1,S[1])\n",
    "    elif A == 3:\n",
    "        if S[1]==0 or S==(1,3) or S==(2,3) or S==(3,3) or S==(4,6) or S==(1,8) or S==(2,8):\n",
    "            return 0, S\n",
    "        else:\n",
    "            return 0, (S[0],S[1]-1)\n",
    "        \n",
    "def episode_sampling(k):\n",
    "    state_list = []\n",
    "    reward_list = []\n",
    "    action_list = []\n",
    "    cur_state = (2,0)\n",
    "    while cur_state != (-1,-1):\n",
    "        state_list.append(cur_state)\n",
    "        action = GLIE_epsilon_greedy_policy(cur_state, k)\n",
    "        reward, cur_state = environment(cur_state, action)\n",
    "        reward_list.append(reward)\n",
    "        action_list.append(action)\n",
    "    return state_list, reward_list, action_list\n",
    "\n",
    "def get_return(reward_list):\n",
    "    return_list = []\n",
    "    length = len(reward_list)\n",
    "    for i in range(length):\n",
    "        G = 0.0\n",
    "        gamma = 1.0\n",
    "        for j in range(i,length):\n",
    "            G += reward_list[j] * gamma\n",
    "            gamma *= 0.95\n",
    "        return_list.append(G)\n",
    "    return return_list\n",
    "\n",
    "def MC_evaluation(state_list, return_list, action_list):\n",
    "    for s, a, G in zip(state_list, action_list, return_list):\n",
    "        N_table[s+(a,)] += 1\n",
    "        Q_table[s+(a,)] += (1/N_table[s+(a,)])*(G - Q_table[s+(a,)])\n",
    "        \n",
    "def GLIE_epsilon_greedy_policy(state, k):\n",
    "    epsilon = 0.9997**k\n",
    "    greedy_action = np.argmax(Q_table[state])\n",
    "    a = [0,1,2,3]\n",
    "    a.remove(greedy_action)\n",
    "    a = [greedy_action] + a\n",
    "    action = np.random.choice(a, p=[epsilon/4 + 1 - epsilon, epsilon/4, epsilon/4, epsilon/4])\n",
    "    return action\n",
    "\n",
    "def greedy_policy(state):\n",
    "    return np.argmax(Q_table[state])\n",
    "\n",
    "def train_agent(num_episode = 1000):\n",
    "    for k in range(1,num_episode+1):\n",
    "        state_list, reward_list, action_list = episode_sampling(k)\n",
    "        return_list = get_return(reward_list)\n",
    "        MC_evaluation(state_list, return_list, action_list)\n",
    "        if k%500 == 0: print('Episode : %d'%k,'Epsilon : %f'%0.9997**k,'Step_count : %d'%len(state_list))\n",
    "\n",
    "def test_agent():\n",
    "    cur_state = (2,0)\n",
    "    count = 0\n",
    "    while cur_state != (-1,-1):\n",
    "        action = greedy_policy(cur_state)\n",
    "        count += 1\n",
    "        if action == 0: action_str = 'up'\n",
    "        elif action == 1: action_str = 'right'\n",
    "        elif action == 2: action_str = 'down'\n",
    "        else: action_str = 'left'\n",
    "        print('State : '+str(cur_state)+' Action : '+action_str)\n",
    "        _, cur_state = environment(cur_state, action)\n",
    "    print('Step_count : %d'%count)"
   ]
  },
  {
   "cell_type": "code",
   "execution_count": 4,
   "metadata": {
    "scrolled": true
   },
   "outputs": [
    {
     "name": "stdout",
     "output_type": "stream",
     "text": [
      "Episode : 500 Epsilon : 0.860689 Step_count : 50\n",
      "Episode : 1000 Epsilon : 0.740785 Step_count : 74\n",
      "Episode : 1500 Epsilon : 0.637585 Step_count : 33\n",
      "Episode : 2000 Epsilon : 0.548762 Step_count : 59\n",
      "Episode : 2500 Epsilon : 0.472313 Step_count : 18\n",
      "Episode : 3000 Epsilon : 0.406515 Step_count : 34\n",
      "Episode : 3500 Epsilon : 0.349883 Step_count : 19\n",
      "Episode : 4000 Epsilon : 0.301140 Step_count : 19\n",
      "Episode : 4500 Epsilon : 0.259188 Step_count : 16\n",
      "Episode : 5000 Epsilon : 0.223080 Step_count : 18\n",
      "Episode : 5500 Epsilon : 0.192002 Step_count : 19\n",
      "Episode : 6000 Epsilon : 0.165254 Step_count : 14\n",
      "Episode : 6500 Epsilon : 0.142232 Step_count : 16\n",
      "Episode : 7000 Epsilon : 0.122418 Step_count : 14\n",
      "Episode : 7500 Epsilon : 0.105364 Step_count : 14\n",
      "Episode : 8000 Epsilon : 0.090685 Step_count : 16\n",
      "Episode : 8500 Epsilon : 0.078052 Step_count : 18\n",
      "Episode : 9000 Epsilon : 0.067178 Step_count : 14\n",
      "Episode : 9500 Epsilon : 0.057820 Step_count : 14\n",
      "Episode : 10000 Epsilon : 0.049765 Step_count : 17\n",
      "Episode : 10500 Epsilon : 0.042832 Step_count : 16\n",
      "Episode : 11000 Epsilon : 0.036865 Step_count : 14\n",
      "Episode : 11500 Epsilon : 0.031729 Step_count : 16\n",
      "Episode : 12000 Epsilon : 0.027309 Step_count : 14\n",
      "Episode : 12500 Epsilon : 0.023505 Step_count : 14\n",
      "Episode : 13000 Epsilon : 0.020230 Step_count : 14\n",
      "Episode : 13500 Epsilon : 0.017412 Step_count : 16\n",
      "Episode : 14000 Epsilon : 0.014986 Step_count : 14\n",
      "Episode : 14500 Epsilon : 0.012898 Step_count : 14\n",
      "Episode : 15000 Epsilon : 0.011101 Step_count : 14\n",
      "Episode : 15500 Epsilon : 0.009555 Step_count : 14\n",
      "Episode : 16000 Epsilon : 0.008224 Step_count : 14\n",
      "Episode : 16500 Epsilon : 0.007078 Step_count : 14\n",
      "Episode : 17000 Epsilon : 0.006092 Step_count : 14\n",
      "Episode : 17500 Epsilon : 0.005243 Step_count : 14\n",
      "Episode : 18000 Epsilon : 0.004513 Step_count : 14\n",
      "Episode : 18500 Epsilon : 0.003884 Step_count : 14\n",
      "Episode : 19000 Epsilon : 0.003343 Step_count : 14\n",
      "Episode : 19500 Epsilon : 0.002877 Step_count : 14\n",
      "Episode : 20000 Epsilon : 0.002477 Step_count : 14\n"
     ]
    }
   ],
   "source": [
    "train_agent(20000)"
   ]
  },
  {
   "cell_type": "code",
   "execution_count": 5,
   "metadata": {
    "scrolled": true
   },
   "outputs": [
    {
     "name": "stdout",
     "output_type": "stream",
     "text": [
      "State : (2, 0) Action : down\n",
      "State : (3, 0) Action : down\n",
      "State : (4, 0) Action : right\n",
      "State : (4, 1) Action : right\n",
      "State : (4, 2) Action : right\n",
      "State : (4, 3) Action : up\n",
      "State : (3, 3) Action : right\n",
      "State : (3, 4) Action : right\n",
      "State : (3, 5) Action : right\n",
      "State : (3, 6) Action : right\n",
      "State : (3, 7) Action : right\n",
      "State : (3, 8) Action : up\n",
      "State : (2, 8) Action : up\n",
      "State : (1, 8) Action : up\n",
      "Step_count : 14\n"
     ]
    }
   ],
   "source": [
    "test_agent()"
   ]
  }
 ],
 "metadata": {
  "kernelspec": {
   "display_name": "Python 3",
   "language": "python",
   "name": "python3"
  },
  "language_info": {
   "codemirror_mode": {
    "name": "ipython",
    "version": 3
   },
   "file_extension": ".py",
   "mimetype": "text/x-python",
   "name": "python",
   "nbconvert_exporter": "python",
   "pygments_lexer": "ipython3",
   "version": "3.7.3"
  }
 },
 "nbformat": 4,
 "nbformat_minor": 2
}
