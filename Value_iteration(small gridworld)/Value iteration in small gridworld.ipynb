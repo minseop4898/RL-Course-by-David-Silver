{
 "cells": [
  {
   "cell_type": "code",
   "execution_count": 1,
   "metadata": {},
   "outputs": [],
   "source": [
    "import numpy as np"
   ]
  },
  {
   "cell_type": "code",
   "execution_count": 2,
   "metadata": {},
   "outputs": [],
   "source": [
    "def environment(tup, action):\n",
    "    if (tup[0]==0 and action==1)or(tup[0]==3 and action==3)or(tup[1]==0 and action==0)or(tup[1]==3 and action==2):\n",
    "        return tup\n",
    "    if action==0:\n",
    "        return (tup[0], tup[1]-1)\n",
    "    elif action==1:\n",
    "        return (tup[0]-1, tup[1])\n",
    "    elif action==2:\n",
    "        return (tup[0], tup[1]+1)\n",
    "    elif action==3:\n",
    "        return (tup[0]+1, tup[1])\n",
    "    return"
   ]
  },
  {
   "cell_type": "code",
   "execution_count": 9,
   "metadata": {},
   "outputs": [
    {
     "name": "stdout",
     "output_type": "stream",
     "text": [
      "Synchronous\n",
      "[[0. 0. 0. 0.]\n",
      " [0. 0. 0. 0.]\n",
      " [0. 0. 0. 0.]\n",
      " [0. 0. 0. 0.]]\n",
      "[[ 0. -1. -1. -1.]\n",
      " [-1. -1. -1. -1.]\n",
      " [-1. -1. -1. -1.]\n",
      " [-1. -1. -1. -1.]]\n",
      "[[ 0. -1. -2. -2.]\n",
      " [-1. -2. -2. -2.]\n",
      " [-2. -2. -2. -2.]\n",
      " [-2. -2. -2. -2.]]\n",
      "[[ 0. -1. -2. -3.]\n",
      " [-1. -2. -3. -3.]\n",
      " [-2. -3. -3. -3.]\n",
      " [-3. -3. -3. -3.]]\n",
      "[[ 0. -1. -2. -3.]\n",
      " [-1. -2. -3. -4.]\n",
      " [-2. -3. -4. -4.]\n",
      " [-3. -4. -4. -4.]]\n",
      "[[ 0. -1. -2. -3.]\n",
      " [-1. -2. -3. -4.]\n",
      " [-2. -3. -4. -5.]\n",
      " [-3. -4. -5. -5.]]\n",
      "[[ 0. -1. -2. -3.]\n",
      " [-1. -2. -3. -4.]\n",
      " [-2. -3. -4. -5.]\n",
      " [-3. -4. -5. -6.]]\n"
     ]
    }
   ],
   "source": [
    "print('Synchronous')\n",
    "v_k = np.zeros((4,4))\n",
    "v_k1 = np.zeros((4,4))\n",
    "\n",
    "for k in range(7):\n",
    "    for i in range(4):\n",
    "        for j in range(4):\n",
    "            if (i==0 and j==0): continue\n",
    "            else:\n",
    "                max_num = -1000.0\n",
    "                for action in range(4):\n",
    "                    if -1.0 + v_k[environment((i,j), action)] > max_num:\n",
    "                        max_num = -1.0 + v_k[environment((i,j), action)]\n",
    "                        v_k1[i,j] = -1.0 + v_k[environment((i,j), action)]\n",
    "    print(v_k)\n",
    "    v_k = v_k1.copy()"
   ]
  },
  {
   "cell_type": "code",
   "execution_count": 10,
   "metadata": {},
   "outputs": [
    {
     "name": "stdout",
     "output_type": "stream",
     "text": [
      "Asynchronous\n",
      "[[ 0. -1. -1. -1.]\n",
      " [-1. -1. -1. -1.]\n",
      " [-1. -1. -1. -1.]\n",
      " [-1. -1. -1. -2.]]\n",
      "[[ 0. -1. -2. -2.]\n",
      " [-1. -2. -2. -2.]\n",
      " [-2. -2. -2. -3.]\n",
      " [-2. -2. -3. -4.]]\n",
      "[[ 0. -1. -2. -3.]\n",
      " [-1. -2. -3. -4.]\n",
      " [-2. -3. -4. -5.]\n",
      " [-3. -4. -5. -6.]]\n",
      "[[ 0. -1. -2. -3.]\n",
      " [-1. -2. -3. -4.]\n",
      " [-2. -3. -4. -5.]\n",
      " [-3. -4. -5. -6.]]\n",
      "[[ 0. -1. -2. -3.]\n",
      " [-1. -2. -3. -4.]\n",
      " [-2. -3. -4. -5.]\n",
      " [-3. -4. -5. -6.]]\n",
      "[[ 0. -1. -2. -3.]\n",
      " [-1. -2. -3. -4.]\n",
      " [-2. -3. -4. -5.]\n",
      " [-3. -4. -5. -6.]]\n",
      "[[ 0. -1. -2. -3.]\n",
      " [-1. -2. -3. -4.]\n",
      " [-2. -3. -4. -5.]\n",
      " [-3. -4. -5. -6.]]\n"
     ]
    }
   ],
   "source": [
    "print('Asynchronous')\n",
    "v_k = np.zeros((4,4))\n",
    "\n",
    "for k in range(7):\n",
    "    for i in range(4):\n",
    "        for j in range(4):\n",
    "            if (i==0 and j==0): continue\n",
    "            else:\n",
    "                max_num = -1000.0\n",
    "                for action in range(4):\n",
    "                    if -1.0 + v_k[environment((i,j), action)] > max_num:\n",
    "                        max_num = -1.0 + v_k[environment((i,j), action)]\n",
    "                        v_k[i,j] = -1.0 + v_k[environment((i,j), action)]\n",
    "    print(v_k)"
   ]
  },
  {
   "cell_type": "code",
   "execution_count": null,
   "metadata": {},
   "outputs": [],
   "source": []
  }
 ],
 "metadata": {
  "kernelspec": {
   "display_name": "Python 3",
   "language": "python",
   "name": "python3"
  },
  "language_info": {
   "codemirror_mode": {
    "name": "ipython",
    "version": 3
   },
   "file_extension": ".py",
   "mimetype": "text/x-python",
   "name": "python",
   "nbconvert_exporter": "python",
   "pygments_lexer": "ipython3",
   "version": "3.6.8"
  }
 },
 "nbformat": 4,
 "nbformat_minor": 2
}
