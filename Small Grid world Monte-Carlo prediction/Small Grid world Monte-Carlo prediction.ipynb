{
 "cells": [
  {
   "cell_type": "code",
   "execution_count": 1,
   "metadata": {},
   "outputs": [],
   "source": [
    "import numpy as np\n",
    "\n",
    "def environment(tup, action):\n",
    "    if (tup[0]==0 and action==1)or(tup[0]==3 and action==3)or(tup[1]==0 and action==0)or(tup[1]==3 and action==2):\n",
    "        return tup\n",
    "    if action==0:\n",
    "        return (tup[0], tup[1]-1)\n",
    "    elif action==1:\n",
    "        return (tup[0]-1, tup[1])\n",
    "    elif action==2:\n",
    "        return (tup[0], tup[1]+1)\n",
    "    elif action==3:\n",
    "        return (tup[0]+1, tup[1])\n",
    "    return\n",
    "\n",
    "def episode_sampling():\n",
    "    state_list = []\n",
    "    reward_list = []\n",
    "    cur_state = (2,2)\n",
    "    while cur_state!=(0,0) and cur_state!=(3,3):\n",
    "        state_list.append(cur_state)\n",
    "        action = np.random.randint(4)\n",
    "        reward_list.append(-1)\n",
    "        cur_state = environment(cur_state, action)\n",
    "    return state_list, reward_list\n",
    "\n",
    "def get_return(reward_list):\n",
    "    return_list = []\n",
    "    length = len(reward_list)\n",
    "    for i in range(length):\n",
    "        G = 0.0\n",
    "        for j in range(i,length):\n",
    "            G += reward_list[j]\n",
    "        return_list.append(G)\n",
    "    return return_list\n",
    "\n",
    "def MC_evaluation(value_table, alpha, num_episode=100): ### every visit ###\n",
    "    for i in range(num_episode):\n",
    "        sampling = episode_sampling()\n",
    "        sample_state_list = sampling[0]\n",
    "        sample_return_list = get_return(sampling[1])\n",
    "        for j in range(len(sample_state_list)):\n",
    "            value_table[sample_state_list[j]] += alpha*(sample_return_list[j]-value_table[sample_state_list[j]])### incremental MC update"
   ]
  },
  {
   "cell_type": "code",
   "execution_count": 2,
   "metadata": {},
   "outputs": [
    {
     "name": "stdout",
     "output_type": "stream",
     "text": [
      "[[  0.         -13.66086774 -20.88205393 -23.225851  ]\n",
      " [-12.55777351 -18.58609128 -20.4731663  -20.68288709]\n",
      " [-17.8807448  -18.96713815 -17.64442311 -12.08220249]\n",
      " [-19.60147027 -18.53390101 -13.07452706   0.        ]]\n"
     ]
    }
   ],
   "source": [
    "value_table = np.zeros((4,4))\n",
    "MC_evaluation(value_table, 0.01, 100000)\n",
    "print(value_table)"
   ]
  }
 ],
 "metadata": {
  "kernelspec": {
   "display_name": "Python 3",
   "language": "python",
   "name": "python3"
  },
  "language_info": {
   "codemirror_mode": {
    "name": "ipython",
    "version": 3
   },
   "file_extension": ".py",
   "mimetype": "text/x-python",
   "name": "python",
   "nbconvert_exporter": "python",
   "pygments_lexer": "ipython3",
   "version": "3.7.3"
  }
 },
 "nbformat": 4,
 "nbformat_minor": 2
}
